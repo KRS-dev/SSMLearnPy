{
 "cells": [
  {
   "cell_type": "code",
   "execution_count": 1,
   "id": "5ca388e9",
   "metadata": {},
   "outputs": [],
   "source": [
    "import numpy as np\n",
    "import matplotlib.pyplot as plt\n",
    "\n",
    "\n",
    "\n",
    "import numpy as np\n",
    "from numpy.lib.arraysetops import isin\n",
    "from sklearn.multioutput import MultiOutputRegressor\n",
    "from sklearn.preprocessing import StandardScaler\n",
    "from sklearn.preprocessing import PolynomialFeatures\n",
    "from sklearn.pipeline import Pipeline\n",
    "from sklearn.linear_model import Ridge\n",
    "from sklearn.linear_model import RidgeCV\n"
   ]
  },
  {
   "cell_type": "code",
   "execution_count": 2,
   "id": "0591040d",
   "metadata": {},
   "outputs": [],
   "source": [
    "from scipy.integrate import solve_ivp\n",
    "from ssmlearnpy.utils import ridge\n",
    "from ssmlearnpy.reduced_dynamics.shift_or_differentiate import shift_or_differentiate\n",
    "from ssmlearnpy.reduced_dynamics.normalform import NormalForm, NonlinearCoordinateTransform\n",
    "from sklearn.preprocessing import PolynomialFeatures\n",
    "\n",
    "from ssmlearnpy.reduced_dynamics.normalform import NonlinearCoordinateTransform, NormalForm, create_normalform_transform_objective, prepare_normalform_transform_optimization, unpack_optimized_coeffs\n",
    "from scipy.optimize import minimize\n",
    "import numpy as np\n",
    "from scipy.io import savemat"
   ]
  },
  {
   "cell_type": "code",
   "execution_count": null,
   "id": "089bd956",
   "metadata": {},
   "outputs": [],
   "source": []
  },
  {
   "cell_type": "code",
   "execution_count": 3,
   "id": "691862ad",
   "metadata": {},
   "outputs": [],
   "source": [
    "from ssmlearnpy.reduced_dynamics.normalform import NormalForm, wrap_optimized_coefficients\n"
   ]
  },
  {
   "cell_type": "markdown",
   "id": "dd9b5c9e",
   "metadata": {},
   "source": [
    "I fit the reduced dynamics to infer the eigenvalues "
   ]
  },
  {
   "cell_type": "code",
   "execution_count": 4,
   "id": "102188d1",
   "metadata": {},
   "outputs": [],
   "source": [
    "from scipy.integrate import solve_ivp\n",
    "from ssmlearnpy.utils import ridge\n",
    "from ssmlearnpy.reduced_dynamics.shift_or_differentiate import shift_or_differentiate\n"
   ]
  },
  {
   "cell_type": "code",
   "execution_count": 5,
   "id": "2b0c5bf2",
   "metadata": {},
   "outputs": [],
   "source": [
    "\n",
    "def vectorfield(t,x):\n",
    "    # needed to test regression\n",
    "    # damped duffing oscillator with fixed points at x=0 and x=+/-1.\n",
    "    # x[0] is position, x[1] is velocity\n",
    "    return np.array([x[1], x[0]-x[0]**3 - 0.1*x[1]])\n"
   ]
  },
  {
   "cell_type": "code",
   "execution_count": 27,
   "id": "6b86f949",
   "metadata": {},
   "outputs": [
    {
     "name": "stderr",
     "output_type": "stream",
     "text": [
      "INFO   2023-03-30 01:16:31 ridge Transforming data\n",
      "INFO   2023-03-30 01:16:31 ridge Skipping CV on ridge regression\n",
      "INFO   2023-03-30 01:16:31 ridge Fitting regression model\n"
     ]
    }
   ],
   "source": [
    " t = np.linspace(0, 10, 1000)\n",
    "dt = t[1] - t[0]\n",
    "ic_0 = np.array([0.1, 0])\n",
    "ic_1 = np.array([0.112, 0])\n",
    "sol_0 = solve_ivp(vectorfield, [t[0], t[-1]], ic_0, t_eval=t)\n",
    "sol_1 = solve_ivp(vectorfield, [t[0], t[-1]], ic_1, t_eval=t)\n",
    "trajectories = [sol_0.y - np.array([1,0]).reshape(-1,1), sol_1.y - np.array([1,0]).reshape(-1,1)]\n",
    "times = [t, t]\n",
    "X, y  = shift_or_differentiate(trajectories, times, 'flow') # get an estimate for the linear part\n",
    "#print(X[0].shape)\n",
    "# add the constraints to the fixed points explicitly\n",
    "constLHS = [[-1, 0]]\n",
    "constRHS = [[0, 0]]\n",
    "cons = [constLHS, constRHS]\n",
    "# Fit reduced model\n",
    "mdl = ridge.get_fit_ridge(X, y, poly_degree = 5, constraints = cons)\n",
    "linearPart = mdl.map_info['coefficients'][:,:2]\n",
    "w, v = np.linalg.eig(linearPart)\n",
    "#print(np.linalg.inv(v)@linearPart@v)\n",
    "linpartDiag = np.linalg.inv(v)@linearPart@v\n",
    "# v^{-1}@A@v is diagonal. transform the coordinates with v^{-1}.\n",
    "newcoord = [np.linalg.inv(v)@x for x in trajectories]"
   ]
  },
  {
   "cell_type": "code",
   "execution_count": 29,
   "id": "b0a546bf",
   "metadata": {},
   "outputs": [],
   "source": [
    "NF, n_unknowns_dynamics, n_unknowns_transformation, objectiv = create_normalform_transform_objective(times, newcoord, linpartDiag, degree = 3)\n"
   ]
  },
  {
   "cell_type": "code",
   "execution_count": 30,
   "id": "a8b62505",
   "metadata": {},
   "outputs": [
    {
     "name": "stdout",
     "output_type": "stream",
     "text": [
      "Optimization terminated successfully.\n",
      "         Current function value: 6.045189\n",
      "         Iterations: 41\n",
      "         Function evaluations: 765\n",
      "         Gradient evaluations: 51\n"
     ]
    }
   ],
   "source": [
    "    icfrommatlab = np.array([\n",
    "  -0.046665229741644,\n",
    "   0.088871461583745,\n",
    "  -0.026512243121989,\n",
    "  -0.081083271970684,\n",
    "   0.323878856507470,\n",
    "  -0.039156803945355,\n",
    "  -0.097782606679839,\n",
    "  -0.671912310868208,\n",
    "  -1.346404263906166,\n",
    "   0.222731265038940,\n",
    "   0.014122867866736,\n",
    "  -0.003328268772583,\n",
    "  -0.009526614976568,\n",
    "   0.902348990674412])\n",
    "    ic_ = np.array([1, 0,1, 1,1, 0, 0, 1, 0, 0, 0, 1, 0, 0])\n",
    "    res = minimize(objectiv, icfrommatlab, method='BFGS', options={'disp': True, 'maxiter':5000})\n",
    "    d = unpack_optimized_coeffs(res.x, 1, NF, n_unknowns_dynamics, n_unknowns_transformation)\n",
    "#    print(d['coeff_dynamics'])"
   ]
  },
  {
   "cell_type": "code",
   "execution_count": 31,
   "id": "c251ec71",
   "metadata": {},
   "outputs": [
    {
     "data": {
      "text/plain": [
       "(1, 7)"
      ]
     },
     "execution_count": 31,
     "metadata": {},
     "output_type": "execute_result"
    }
   ],
   "source": [
    "d['coeff_transformation'].shape"
   ]
  },
  {
   "cell_type": "code",
   "execution_count": 32,
   "id": "2c97e7da",
   "metadata": {},
   "outputs": [],
   "source": [
    "coef, trf = wrap_optimized_coefficients(1, [0,0], 3, d )"
   ]
  },
  {
   "cell_type": "code",
   "execution_count": 33,
   "id": "b05321ce",
   "metadata": {},
   "outputs": [],
   "source": [
    "ndofs =1\n"
   ]
  },
  {
   "cell_type": "code",
   "execution_count": 34,
   "id": "fb8d1e55",
   "metadata": {},
   "outputs": [
    {
     "data": {
      "text/plain": [
       "array([ 1.00000000e+00+0.j        ,  0.00000000e+00+0.j        ,\n",
       "       -6.65650037e-04+0.54756778j,  4.32658061e-02+1.07255372j,\n",
       "        2.48870332e-02-0.15266127j, -6.01497494e-01-0.03929878j,\n",
       "        0.00000000e+00+0.j        , -6.43949561e-02+0.09121503j,\n",
       "        1.02274921e-01-0.02886421j])"
      ]
     },
     "execution_count": 34,
     "metadata": {},
     "output_type": "execute_result"
    }
   ],
   "source": [
    "coef[0,:]"
   ]
  },
  {
   "cell_type": "code",
   "execution_count": 35,
   "id": "20e3fbd4",
   "metadata": {},
   "outputs": [
    {
     "data": {
      "text/plain": [
       "array([ 1.00000000e+00-0.j        ,  0.00000000e+00-0.j        ,\n",
       "       -6.65650037e-04-0.54756778j,  4.32658061e-02-1.07255372j,\n",
       "        2.48870332e-02+0.15266127j, -6.01497494e-01+0.03929878j,\n",
       "        0.00000000e+00-0.j        , -6.43949561e-02-0.09121503j,\n",
       "        1.02274921e-01+0.02886421j])"
      ]
     },
     "execution_count": 35,
     "metadata": {},
     "output_type": "execute_result"
    }
   ],
   "source": [
    "coef[1,:]"
   ]
  },
  {
   "cell_type": "code",
   "execution_count": 36,
   "id": "a671d2aa",
   "metadata": {},
   "outputs": [
    {
     "data": {
      "text/plain": [
       "array([[-0.00066565+0.54756778j,  0.04326581+1.07255372j,\n",
       "         0.02488703-0.15266127j, -0.60149749-0.03929878j,\n",
       "         0.        +0.j        , -0.06439496+0.09121503j,\n",
       "         0.10227492-0.02886421j]])"
      ]
     },
     "execution_count": 36,
     "metadata": {},
     "output_type": "execute_result"
    }
   ],
   "source": [
    "d['coeff_transformation']"
   ]
  },
  {
   "cell_type": "code",
   "execution_count": 37,
   "id": "ada61f8b",
   "metadata": {},
   "outputs": [],
   "source": [
    "aa = trf.inverse_transform(newcoord[0])"
   ]
  },
  {
   "cell_type": "code",
   "execution_count": 43,
   "id": "53c453b7",
   "metadata": {},
   "outputs": [
    {
     "data": {
      "text/plain": [
       "[<matplotlib.lines.Line2D at 0x7f7eb25b2700>]"
      ]
     },
     "execution_count": 43,
     "metadata": {},
     "output_type": "execute_result"
    },
    {
     "data": {
      "image/png": "[encoded data removed]",
      "text/plain": [
       "<Figure size 640x480 with 1 Axes>"
      ]
     },
     "metadata": {},
     "output_type": "display_data"
    }
   ],
   "source": [
    "plt.plot(np.real(aa[:,0]), np.imag(aa[:,0]))"
   ]
  },
  {
   "cell_type": "code",
   "execution_count": 39,
   "id": "2b9aa7c0",
   "metadata": {},
   "outputs": [
    {
     "data": {
      "text/plain": [
       "(1000, 2)"
      ]
     },
     "execution_count": 39,
     "metadata": {},
     "output_type": "execute_result"
    }
   ],
   "source": [
    "aa[]"
   ]
  },
  {
   "cell_type": "code",
   "execution_count": 13,
   "id": "8bfc7a84",
   "metadata": {},
   "outputs": [
    {
     "data": {
      "text/plain": [
       "(1000, 2)"
      ]
     },
     "execution_count": 13,
     "metadata": {},
     "output_type": "execute_result"
    }
   ],
   "source": [
    "aa.shape"
   ]
  },
  {
   "cell_type": "code",
   "execution_count": 14,
   "id": "e056b1c4",
   "metadata": {},
   "outputs": [
    {
     "data": {
      "text/plain": [
       "(2, 1000)"
      ]
     },
     "execution_count": 14,
     "metadata": {},
     "output_type": "execute_result"
    }
   ],
   "source": [
    "newcoord[0].shape"
   ]
  },
  {
   "cell_type": "code",
   "execution_count": 15,
   "id": "89f35e7e",
   "metadata": {},
   "outputs": [
    {
     "ename": "AttributeError",
     "evalue": "'numpy.ndarray' object has no attribute 'sh'",
     "output_type": "error",
     "traceback": [
      "\u001b[0;31m---------------------------------------------------------------------------\u001b[0m",
      "\u001b[0;31mAttributeError\u001b[0m                            Traceback (most recent call last)",
      "Cell \u001b[0;32mIn[15], line 1\u001b[0m\n\u001b[0;32m----> 1\u001b[0m \u001b[43md\u001b[49m\u001b[43m[\u001b[49m\u001b[38;5;124;43m'\u001b[39;49m\u001b[38;5;124;43mcoeff_transformation\u001b[39;49m\u001b[38;5;124;43m'\u001b[39;49m\u001b[43m]\u001b[49m\u001b[38;5;241;43m.\u001b[39;49m\u001b[43msh\u001b[49m\n",
      "\u001b[0;31mAttributeError\u001b[0m: 'numpy.ndarray' object has no attribute 'sh'"
     ]
    }
   ],
   "source": [
    "d['coeff_transformation'].sh"
   ]
  },
  {
   "cell_type": "code",
   "execution_count": 16,
   "id": "e37428ba",
   "metadata": {},
   "outputs": [
    {
     "data": {
      "text/plain": [
       "(1.6653345369377348e-16+0j)"
      ]
     },
     "execution_count": 16,
     "metadata": {},
     "output_type": "execute_result"
    }
   ],
   "source": [
    "np.max(np.conj(aa[:,0])-aa[:,1])"
   ]
  },
  {
   "cell_type": "code",
   "execution_count": null,
   "id": "4c343115",
   "metadata": {},
   "outputs": [],
   "source": []
  },
  {
   "cell_type": "code",
   "execution_count": 20,
   "id": "c2de8dae",
   "metadata": {},
   "outputs": [
    {
     "data": {
      "text/plain": [
       "dtype('complex128')"
      ]
     },
     "execution_count": 20,
     "metadata": {},
     "output_type": "execute_result"
    }
   ],
   "source": [
    "np.dtype(newcoord[0][0,0])"
   ]
  },
  {
   "cell_type": "code",
   "execution_count": 19,
   "id": "64dd60de",
   "metadata": {},
   "outputs": [
    {
     "data": {
      "text/plain": [
       "-0.7799520298625393j"
      ]
     },
     "execution_count": 19,
     "metadata": {},
     "output_type": "execute_result"
    }
   ],
   "source": [
    "newcoord[0][0,0]"
   ]
  },
  {
   "cell_type": "code",
   "execution_count": 11,
   "id": "647f34ef",
   "metadata": {},
   "outputs": [
    {
     "data": {
      "text/plain": [
       "array([[ 0.        ],\n",
       "       [ 0.        ],\n",
       "       [ 0.        ],\n",
       "       [ 0.        ],\n",
       "       [-0.17787939],\n",
       "       [ 0.        ],\n",
       "       [ 0.        ]])"
      ]
     },
     "execution_count": 11,
     "metadata": {},
     "output_type": "execute_result"
    }
   ],
   "source": [
    "d['coeff_dynamics']"
   ]
  },
  {
   "cell_type": "markdown",
   "id": "feb34716",
   "metadata": {},
   "source": [
    "solution from matlab:"
   ]
  },
  {
   "cell_type": "code",
   "execution_count": null,
   "id": "a1992c09",
   "metadata": {},
   "outputs": [],
   "source": [
    "best = np.array([   0.002818889746235,\n",
    "   0.059415462775561,\n",
    "   0.030497977640260,\n",
    "  -1.461040586269820,\n",
    "  -0.203159058632970,\n",
    "   0.244890089585910,\n",
    "  -0.526966670910339,\n",
    "   0.848666205722672,\n",
    "   1.670285068564227,\n",
    "  -0.242585661224423,\n",
    "  -0.096320040469781,\n",
    "   0.278734356071433,\n",
    "  -0.068636242977714,\n",
    "  -5.114603675927176,\n",
    "])"
   ]
  },
  {
   "cell_type": "code",
   "execution_count": 19,
   "id": "6b3bdbac",
   "metadata": {},
   "outputs": [
    {
     "data": {
      "text/plain": [
       "21989.50094299669"
      ]
     },
     "execution_count": 19,
     "metadata": {},
     "output_type": "execute_result"
    }
   ],
   "source": [
    "[::-1]"
   ]
  },
  {
   "cell_type": "code",
   "execution_count": 39,
   "id": "5ccbee1e",
   "metadata": {},
   "outputs": [],
   "source": [
    "gamma_from_fastSSM=-0.027779192851483 - 1.3899746434502681j"
   ]
  },
  {
   "cell_type": "code",
   "execution_count": 38,
   "id": "0356ebb7",
   "metadata": {},
   "outputs": [
    {
     "data": {
      "text/plain": [
       "[<matplotlib.lines.Line2D at 0x7feb92747d30>]"
      ]
     },
     "execution_count": 38,
     "metadata": {},
     "output_type": "execute_result"
    },
    {
     "data": {
      "image/png": "[encoded data removed]",
      "text/plain": [
       "<Figure size 640x480 with 1 Axes>"
      ]
     },
     "metadata": {},
     "output_type": "display_data"
    }
   ],
   "source": [
    "plt.plot(np.real(newcoord[0][0,:]), np.imag(newcoord[0][0,:]))\n",
    "#plt.plot(np.real(newcoord[0][1,:]), -np.imag(newcoord[0][1,:])) # conjugate\n",
    "plt.plot(np.real(newcoord[1][1,:]), -np.imag(newcoord[1][1,:]))"
   ]
  },
  {
   "cell_type": "code",
   "execution_count": null,
   "id": "f75a6607",
   "metadata": {},
   "outputs": [],
   "source": []
  }
 ],
 "metadata": {
  "kernelspec": {
   "display_name": "Python 3 (ipykernel)",
   "language": "python",
   "name": "python3"
  },
  "language_info": {
   "codemirror_mode": {
    "name": "ipython",
    "version": 3
   },
   "file_extension": ".py",
   "mimetype": "text/x-python",
   "name": "python",
   "nbconvert_exporter": "python",
   "pygments_lexer": "ipython3",
   "version": "3.9.13"
  }
 },
 "nbformat": 4,
 "nbformat_minor": 5
}
