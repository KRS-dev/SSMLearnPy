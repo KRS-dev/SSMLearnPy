{
 "cells": [
  {
   "cell_type": "code",
   "execution_count": 2,
   "id": "b392315e",
   "metadata": {},
   "outputs": [],
   "source": [
    "from ssmlearnpy import SSMLearn"
   ]
  },
  {
   "cell_type": "code",
   "execution_count": 4,
   "id": "0a498ac5",
   "metadata": {},
   "outputs": [],
   "source": [
    "from scipy.io import loadmat\n",
    "\n",
    "import numpy as np\n",
    "mat = loadmat('/Users/balintkaszas/Downloads/dataRe135.mat')\n"
   ]
  },
  {
   "cell_type": "code",
   "execution_count": 5,
   "id": "9e88a642",
   "metadata": {},
   "outputs": [],
   "source": [
    "t_full = [mat['aData'][0][0], mat['aData'][1][0]]\n",
    "x_full = [mat['aData'][0][1], mat['aData'][1][1]]\n",
    "x_reduced = [mat['xData'][0][1], mat['xData'][1][1]]"
   ]
  },
  {
   "cell_type": "code",
   "execution_count": 6,
   "id": "bb4cc3f0",
   "metadata": {},
   "outputs": [
    {
     "ename": "AttributeError",
     "evalue": "'SSMLearn' object has no attribute 'emb_data'",
     "output_type": "error",
     "traceback": [
      "\u001b[0;31m---------------------------------------------------------------------------\u001b[0m",
      "\u001b[0;31mAttributeError\u001b[0m                            Traceback (most recent call last)",
      "\u001b[0;32m/var/folders/sc/g850kkhs2zv9ndc20ntwgf540000gn/T/ipykernel_23508/2017535221.py\u001b[0m in \u001b[0;36m<module>\u001b[0;34m\u001b[0m\n\u001b[0;32m----> 1\u001b[0;31m ssm = SSMLearn(t = t_full, x = x_full, reduced_coordinates = x_reduced,\n\u001b[0m\u001b[1;32m      2\u001b[0m        \u001b[0mim_dim\u001b[0m\u001b[0;34m=\u001b[0m\u001b[0;36m2\u001b[0m\u001b[0;34m\u001b[0m\u001b[0;34m\u001b[0m\u001b[0m\n\u001b[1;32m      3\u001b[0m    )\n",
      "\u001b[0;32m~/Downloads/SSMLearnPy/ssmlearnpy/main/main.py\u001b[0m in \u001b[0;36m__init__\u001b[0;34m(self, path_to_trajectories, t, x, params, reduced_coordinates, derive_embdedding, im_dim, coordinates_embeddings_args, latent_coordinates_method)\u001b[0m\n\u001b[1;32m     62\u001b[0m             )\n\u001b[1;32m     63\u001b[0m \u001b[0;34m\u001b[0m\u001b[0m\n\u001b[0;32m---> 64\u001b[0;31m         \u001b[0mself\u001b[0m\u001b[0;34m.\u001b[0m\u001b[0memb_data\u001b[0m\u001b[0;34m[\u001b[0m\u001b[0;34m'params'\u001b[0m\u001b[0;34m]\u001b[0m \u001b[0;34m=\u001b[0m \u001b[0mparams\u001b[0m\u001b[0;34m\u001b[0m\u001b[0;34m\u001b[0m\u001b[0m\n\u001b[0m\u001b[1;32m     65\u001b[0m         \u001b[0mself\u001b[0m\u001b[0;34m.\u001b[0m\u001b[0memb_data\u001b[0m\u001b[0;34m[\u001b[0m\u001b[0;34m'reduced_coordinates'\u001b[0m\u001b[0;34m]\u001b[0m \u001b[0;34m=\u001b[0m \u001b[0mreduced_coordinates\u001b[0m\u001b[0;34m\u001b[0m\u001b[0;34m\u001b[0m\u001b[0m\n\u001b[1;32m     66\u001b[0m         \u001b[0mself\u001b[0m\u001b[0;34m.\u001b[0m\u001b[0mencoder\u001b[0m \u001b[0;34m=\u001b[0m \u001b[0;32mNone\u001b[0m\u001b[0;34m\u001b[0m\u001b[0;34m\u001b[0m\u001b[0m\n",
      "\u001b[0;31mAttributeError\u001b[0m: 'SSMLearn' object has no attribute 'emb_data'"
     ]
    }
   ],
   "source": [
    " ssm = SSMLearn(t = t_full, x = x_full, reduced_coordinates = x_reduced,\n",
    "        im_dim=2\n",
    "    )"
   ]
  },
  {
   "cell_type": "code",
   "execution_count": null,
   "id": "a9e09f5c",
   "metadata": {},
   "outputs": [],
   "source": []
  },
  {
   "cell_type": "code",
   "execution_count": null,
   "id": "ff79637c",
   "metadata": {},
   "outputs": [],
   "source": []
  }
 ],
 "metadata": {
  "kernelspec": {
   "display_name": "Python 3 (ipykernel)",
   "language": "python",
   "name": "python3"
  },
  "language_info": {
   "codemirror_mode": {
    "name": "ipython",
    "version": 3
   },
   "file_extension": ".py",
   "mimetype": "text/x-python",
   "name": "python",
   "nbconvert_exporter": "python",
   "pygments_lexer": "ipython3",
   "version": "3.9.7"
  }
 },
 "nbformat": 4,
 "nbformat_minor": 5
}
