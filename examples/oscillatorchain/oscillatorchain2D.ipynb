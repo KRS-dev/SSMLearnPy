{
 "cells": [
  {
   "cell_type": "markdown",
   "id": "d832e22d",
   "metadata": {},
   "source": [
    "# Identifying a 2D SSM for an oscillator chain\n",
    "\n",
    "_(Based on the ```Matlab``` live script https://github.com/haller-group/SSMLearn/tree/main/examples/oscillatorchain)_"
   ]
  },
  {
   "cell_type": "markdown",
   "id": "854ecb29",
   "metadata": {},
   "source": [
    "This is an example of how to reconstruct a slow 2D SSM of a mechanical system using synthetic measurements of the full state space. In this example, we consider a damped oscillator chain with an additional nonlinear spring attached to the leftmost mass. The measurements for this example are transients occurring from exact initial conditions on the slow 2D SSM."
   ]
  },
  {
   "cell_type": "markdown",
   "id": "1e36999e",
   "metadata": {},
   "source": [
    "## Setup \n",
    "\n",
    "The $N$-degree of freedom dynamical system is defined as\n",
    "\n",
    "$$\n",
    "\\mathbf{M\\ddot{q}} + \\mathbf{C\\dot{q}} + \\mathbf{Kq} + \\mathbf{f}(\\mathbf{q},\\mathbf{\\dot{q}}) \n",
    "= \\mathbf{0}\n",
    "$$\n",
    "\n",
    "where $\\mathbf{f}$ represents the nonlinearities and $\\mathbf{M}$, $\\mathbf{K}$ ,  and $\\mathbf{C}$ are the  mass, stiffness, and damping matrices, respectively.\n",
    "We rewrite the system in first-order form as"
   ]
  },
  {
   "cell_type": "markdown",
   "id": "cd56c760",
   "metadata": {},
   "source": [
    "$$\n",
    "\\mathbf{\\dot{y}} = \\mathbf{A}\\mathbf{y} + \\mathbf{G}(\\mathbf{y}) = \\mathbf{F}(\\mathbf{y})\n",
    "$$"
   ]
  },
  {
   "cell_type": "markdown",
   "id": "8261e7c5",
   "metadata": {},
   "source": [
    "with \n",
    "\n",
    "$$\n",
    "\\mathbf{y}=\\left[\\begin{array}{c}\\mathbf{q}\\\\\\dot{\\mathbf{q}}\\end{array}\\right],\\quad\\mathbf{A}=\\left[\\begin{array}{cc}\\mathbf{0}  & \\mathbf{I}\\\\-\\mathbf{M}^{-1}\\mathbf{K} & -\\mathbf{M}^{-1}\\mathbf{C} \\end{array}\\right],\\quad\\mathbf{G}(\\mathbf{y})=\\left[\\begin{array}{c}  \\mathbf{0} \\\\ -\\mathbf{M}^{-1}\\mathbf{f}(\\mathbf{y})\\end{array}\\right].$$"
   ]
  },
  {
   "cell_type": "code",
   "execution_count": null,
   "id": "6205e005",
   "metadata": {},
   "outputs": [],
   "source": []
  }
 ],
 "metadata": {
  "kernelspec": {
   "display_name": "Python 3 (ipykernel)",
   "language": "python",
   "name": "python3"
  },
  "language_info": {
   "codemirror_mode": {
    "name": "ipython",
    "version": 3
   },
   "file_extension": ".py",
   "mimetype": "text/x-python",
   "name": "python",
   "nbconvert_exporter": "python",
   "pygments_lexer": "ipython3",
   "version": "3.9.13"
  }
 },
 "nbformat": 4,
 "nbformat_minor": 5
}
